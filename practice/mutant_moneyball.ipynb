{
 "cells": [
  {
   "cell_type": "markdown",
   "metadata": {},
   "source": [
    "# Mutant Moneyball Dataset from Tidy Tuesday GitHub\n",
    "- Purpose to practice my plotly, pandas, numpy, and sklearn skills (can also try statsmodels later for a more R like interface and statistical testing)"
   ]
  },
  {
   "cell_type": "code",
   "execution_count": null,
   "metadata": {
    "vscode": {
     "languageId": "plaintext"
    }
   },
   "outputs": [],
   "source": []
  }
 ],
 "metadata": {
  "language_info": {
   "name": "python"
  }
 },
 "nbformat": 4,
 "nbformat_minor": 2
}
